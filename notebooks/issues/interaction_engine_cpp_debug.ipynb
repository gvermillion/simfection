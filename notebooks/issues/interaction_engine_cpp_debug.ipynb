{
 "cells": [
  {
   "cell_type": "markdown",
   "metadata": {
    "toc": true
   },
   "source": [
    "<h1>Table of Contents<span class=\"tocSkip\"></span></h1>\n",
    "<div class=\"toc\"><ul class=\"toc-item\"><li><span><a href=\"#Preamble\" data-toc-modified-id=\"Preamble-1\"><span class=\"toc-item-num\">1&nbsp;&nbsp;</span>Preamble</a></span><ul class=\"toc-item\"><li><span><a href=\"#Imports\" data-toc-modified-id=\"Imports-1.1\"><span class=\"toc-item-num\">1.1&nbsp;&nbsp;</span>Imports</a></span></li><li><span><a href=\"#Environment\" data-toc-modified-id=\"Environment-1.2\"><span class=\"toc-item-num\">1.2&nbsp;&nbsp;</span>Environment</a></span></li></ul></li><li><span><a href=\"#Main\" data-toc-modified-id=\"Main-2\"><span class=\"toc-item-num\">2&nbsp;&nbsp;</span>Main</a></span><ul class=\"toc-item\"><li><span><a href=\"#Original-Cpp\" data-toc-modified-id=\"Original-Cpp-2.1\"><span class=\"toc-item-num\">2.1&nbsp;&nbsp;</span>Original Cpp</a></span></li><li><span><a href=\"#New-Cpp\" data-toc-modified-id=\"New-Cpp-2.2\"><span class=\"toc-item-num\">2.2&nbsp;&nbsp;</span>New Cpp</a></span></li><li><span><a href=\"#Test-PyInteractions\" data-toc-modified-id=\"Test-PyInteractions-2.3\"><span class=\"toc-item-num\">2.3&nbsp;&nbsp;</span>Test <code>PyInteractions</code></a></span></li></ul></li></ul></div>"
   ]
  },
  {
   "cell_type": "markdown",
   "metadata": {},
   "source": [
    "# Preamble"
   ]
  },
  {
   "cell_type": "markdown",
   "metadata": {},
   "source": [
    "## Imports"
   ]
  },
  {
   "cell_type": "code",
   "execution_count": 1,
   "metadata": {},
   "outputs": [
    {
     "name": "stderr",
     "output_type": "stream",
     "text": [
      "/opt/anaconda3/lib/python3.7/site-packages/statsmodels/tools/_testing.py:19: FutureWarning: pandas.util.testing is deprecated. Use the functions in the public API at pandas.testing instead.\n",
      "  import pandas.util.testing as tm\n"
     ]
    },
    {
     "name": "stdout",
     "output_type": "stream",
     "text": [
      "2020-06-28 09:30:17,777  matplotlib.pyplot               DEBUG   Loaded backend module://ipykernel.pylab.backend_inline version unknown.\n"
     ]
    }
   ],
   "source": [
    "import numpy as np\n",
    "import pandas as pd\n",
    "import seaborn as sns\n",
    "import matplotlib.pyplot as plt\n",
    "from simfection.population_engine import PopulationEngine\n",
    "from simfection.settings import SimfectionSettings\n",
    "from simfection.connection_engine import ConnectionEngine\n",
    "from simfection.interaction_engine_cpp import InteractionEngineCpp\n",
    "from simfection.interaction_engine_cpp import InteractionEngineCpp2\n",
    "from network import PyInteractions"
   ]
  },
  {
   "cell_type": "markdown",
   "metadata": {},
   "source": [
    "## Environment"
   ]
  },
  {
   "cell_type": "code",
   "execution_count": 2,
   "metadata": {},
   "outputs": [
    {
     "name": "stdout",
     "output_type": "stream",
     "text": [
      "2020-06-28 09:30:17,794  simfection.population_engine    DEBUG   + Initializing population engine.\n",
      "2020-06-28 09:30:17,798  simfection.population_engine    DEBUG   - Unloading settings.\n",
      "2020-06-28 09:30:17,803  simfection.population_engine    INFO    + Synthesizing a dummy population.\n",
      "2020-06-28 09:30:17,849  numexpr.utils                   INFO    NumExpr defaulting to 4 threads.\n",
      "2020-06-28 09:30:17,888  simfection.population_engine    DEBUG   - Population states: {'inf': 0.38, 'sus': 0.36, 'dead': 0.26}\n",
      "2020-06-28 09:30:17,889  simfection.connection_engine    DEBUG   + Initializing connection engine.\n",
      "2020-06-28 09:30:17,890  simfection.connection_engine    DEBUG   - Creating connections.\n",
      "2020-06-28 09:30:19,268  simfection.connection_engine    DEBUG   - All connections made successfully.\n"
     ]
    }
   ],
   "source": [
    "settings = SimfectionSettings()\n",
    "population_engine = PopulationEngine(settings)\n",
    "population_engine.make_dummy()\n",
    "\n",
    "connections = ConnectionEngine(\n",
    "    population = population_engine._df,\n",
    "    settings = settings\n",
    ")\n",
    "connections.create_connections()"
   ]
  },
  {
   "cell_type": "markdown",
   "metadata": {},
   "source": [
    "# Main"
   ]
  },
  {
   "cell_type": "markdown",
   "metadata": {},
   "source": [
    "## Original Cpp"
   ]
  },
  {
   "cell_type": "code",
   "execution_count": 3,
   "metadata": {
    "code_folding": []
   },
   "outputs": [
    {
     "name": "stdout",
     "output_type": "stream",
     "text": [
      "2020-06-28 09:30:19,275  simfection.interaction_engine_cpp  DEBUG   + Initializing interaction engine.\n"
     ]
    }
   ],
   "source": [
    "interactions = InteractionEngineCpp(\n",
    "    connections=connections.connections,\n",
    "    population=connections.population,\n",
    "    settings=settings\n",
    ")"
   ]
  },
  {
   "cell_type": "markdown",
   "metadata": {},
   "source": [
    "We call `_init_interactions` first so we can pull out the `pop_immunity` for teting.`"
   ]
  },
  {
   "cell_type": "code",
   "execution_count": 4,
   "metadata": {},
   "outputs": [],
   "source": [
    "interactions._init_interactions()"
   ]
  },
  {
   "cell_type": "code",
   "execution_count": 5,
   "metadata": {},
   "outputs": [],
   "source": [
    "pop_immunity = interactions.population['immunity'].tolist()"
   ]
  },
  {
   "cell_type": "code",
   "execution_count": 6,
   "metadata": {},
   "outputs": [
    {
     "name": "stdout",
     "output_type": "stream",
     "text": [
      "2020-06-28 09:30:19,314  simfection.interaction_engine_cpp  DEBUG   - Running InteractionEngine with C++ optimizations.\n"
     ]
    }
   ],
   "source": [
    "interactions.interact_all()"
   ]
  },
  {
   "cell_type": "markdown",
   "metadata": {},
   "source": [
    "## New Cpp"
   ]
  },
  {
   "cell_type": "code",
   "execution_count": 7,
   "metadata": {},
   "outputs": [
    {
     "name": "stdout",
     "output_type": "stream",
     "text": [
      "2020-06-28 09:30:19,346  simfection.interaction_engine_cpp  DEBUG   + Initializing interaction engine.\n"
     ]
    }
   ],
   "source": [
    "interactions2 = InteractionEngineCpp2(\n",
    "    connections=connections.connections,\n",
    "    population=connections.population,\n",
    "    settings=settings\n",
    ")"
   ]
  },
  {
   "cell_type": "markdown",
   "metadata": {},
   "source": [
    "Check that the immunity objects produced by the origina cpp version (i.e. `pop_imm`) matches the new immunity object (i.e. `_population.get('immunity')`)."
   ]
  },
  {
   "cell_type": "code",
   "execution_count": 8,
   "metadata": {},
   "outputs": [],
   "source": [
    "_population, _connections, _pathogen = interactions2._prep_for_cpp()"
   ]
  },
  {
   "cell_type": "code",
   "execution_count": 9,
   "metadata": {},
   "outputs": [
    {
     "data": {
      "text/plain": [
       "True"
      ]
     },
     "execution_count": 9,
     "metadata": {},
     "output_type": "execute_result"
    }
   ],
   "source": [
    "_population.get('immunity') == pop_immunity"
   ]
  },
  {
   "cell_type": "code",
   "execution_count": 10,
   "metadata": {},
   "outputs": [
    {
     "ename": "TypeError",
     "evalue": "expected bytes, list found",
     "output_type": "error",
     "traceback": [
      "\u001b[0;31m---------------------------------------------------------------------------\u001b[0m",
      "\u001b[0;31mTypeError\u001b[0m                                 Traceback (most recent call last)",
      "\u001b[0;32m<ipython-input-10-a8bd9b02c6a4>\u001b[0m in \u001b[0;36m<module>\u001b[0;34m\u001b[0m\n\u001b[1;32m      2\u001b[0m     \u001b[0m_population\u001b[0m\u001b[0;34m,\u001b[0m\u001b[0;34m\u001b[0m\u001b[0;34m\u001b[0m\u001b[0m\n\u001b[1;32m      3\u001b[0m     \u001b[0m_connections\u001b[0m\u001b[0;34m,\u001b[0m\u001b[0;34m\u001b[0m\u001b[0;34m\u001b[0m\u001b[0m\n\u001b[0;32m----> 4\u001b[0;31m     \u001b[0m_pathogen\u001b[0m\u001b[0;34m\u001b[0m\u001b[0;34m\u001b[0m\u001b[0m\n\u001b[0m\u001b[1;32m      5\u001b[0m )\n",
      "\u001b[0;32m/opt/anaconda3/lib/python3.7/site-packages/simfection-0.2.0-py3.7-macosx-10.9-x86_64.egg/simfection/interaction_engine_cpp.py\u001b[0m in \u001b[0;36m_set_interactions\u001b[0;34m(population, connections, pathogen)\u001b[0m\n\u001b[1;32m    158\u001b[0m             \u001b[0mpopulation\u001b[0m\u001b[0;34m.\u001b[0m\u001b[0mget\u001b[0m\u001b[0;34m(\u001b[0m\u001b[0;34m'infected_by'\u001b[0m\u001b[0;34m)\u001b[0m\u001b[0;34m,\u001b[0m\u001b[0;34m\u001b[0m\u001b[0;34m\u001b[0m\u001b[0m\n\u001b[1;32m    159\u001b[0m             \u001b[0mpopulation\u001b[0m\u001b[0;34m.\u001b[0m\u001b[0mget\u001b[0m\u001b[0;34m(\u001b[0m\u001b[0;34m'days_infected'\u001b[0m\u001b[0;34m)\u001b[0m\u001b[0;34m,\u001b[0m\u001b[0;34m\u001b[0m\u001b[0;34m\u001b[0m\u001b[0m\n\u001b[0;32m--> 160\u001b[0;31m             \u001b[0mpopulation\u001b[0m\u001b[0;34m.\u001b[0m\u001b[0mget\u001b[0m\u001b[0;34m(\u001b[0m\u001b[0;34m'immunity'\u001b[0m\u001b[0;34m)\u001b[0m\u001b[0;34m,\u001b[0m\u001b[0;34m\u001b[0m\u001b[0;34m\u001b[0m\u001b[0m\n\u001b[0m\u001b[1;32m    161\u001b[0m         )\n\u001b[1;32m    162\u001b[0m         \u001b[0;31m# TODO: Update method to accept dictionary\u001b[0m\u001b[0;34m\u001b[0m\u001b[0;34m\u001b[0m\u001b[0;34m\u001b[0m\u001b[0m\n",
      "\u001b[0;32mcpp_src/network.pyx\u001b[0m in \u001b[0;36mnetwork.PyInteractions.set_population\u001b[0;34m()\u001b[0m\n",
      "\u001b[0;32m/opt/anaconda3/lib/python3.7/site-packages/simfection-0.2.0-py3.7-macosx-10.9-x86_64.egg/network.cpython-37m-darwin.so\u001b[0m in \u001b[0;36mvector.from_py.__pyx_convert_vector_from_py_std_3a__3a_string\u001b[0;34m()\u001b[0m\n",
      "\u001b[0;32m/opt/anaconda3/lib/python3.7/site-packages/simfection-0.2.0-py3.7-macosx-10.9-x86_64.egg/network.cpython-37m-darwin.so\u001b[0m in \u001b[0;36mstring.from_py.__pyx_convert_string_from_py_std__in_string\u001b[0;34m()\u001b[0m\n",
      "\u001b[0;31mTypeError\u001b[0m: expected bytes, list found"
     ]
    }
   ],
   "source": [
    "interactions2._set_interactions(\n",
    "    _population,\n",
    "    _connections,\n",
    "    _pathogen\n",
    ")"
   ]
  },
  {
   "cell_type": "markdown",
   "metadata": {},
   "source": [
    "## Test `PyInteractions`"
   ]
  },
  {
   "cell_type": "code",
   "execution_count": 11,
   "metadata": {},
   "outputs": [],
   "source": [
    "py_interactions = PyInteractions()"
   ]
  },
  {
   "cell_type": "code",
   "execution_count": 12,
   "metadata": {},
   "outputs": [
    {
     "ename": "TypeError",
     "evalue": "expected bytes, list found",
     "output_type": "error",
     "traceback": [
      "\u001b[0;31m---------------------------------------------------------------------------\u001b[0m",
      "\u001b[0;31mTypeError\u001b[0m                                 Traceback (most recent call last)",
      "\u001b[0;32m<ipython-input-12-f8a799710afb>\u001b[0m in \u001b[0;36m<module>\u001b[0;34m\u001b[0m\n\u001b[1;32m      4\u001b[0m     \u001b[0m_population\u001b[0m\u001b[0;34m.\u001b[0m\u001b[0mget\u001b[0m\u001b[0;34m(\u001b[0m\u001b[0;34m'infected_by'\u001b[0m\u001b[0;34m)\u001b[0m\u001b[0;34m,\u001b[0m\u001b[0;34m\u001b[0m\u001b[0;34m\u001b[0m\u001b[0m\n\u001b[1;32m      5\u001b[0m     \u001b[0m_population\u001b[0m\u001b[0;34m.\u001b[0m\u001b[0mget\u001b[0m\u001b[0;34m(\u001b[0m\u001b[0;34m'days_infected'\u001b[0m\u001b[0;34m)\u001b[0m\u001b[0;34m,\u001b[0m\u001b[0;34m\u001b[0m\u001b[0;34m\u001b[0m\u001b[0m\n\u001b[0;32m----> 6\u001b[0;31m     \u001b[0mpop_immunity\u001b[0m\u001b[0;34m,\u001b[0m\u001b[0;34m\u001b[0m\u001b[0;34m\u001b[0m\u001b[0m\n\u001b[0m\u001b[1;32m      7\u001b[0m )\n",
      "\u001b[0;32mcpp_src/network.pyx\u001b[0m in \u001b[0;36mnetwork.PyInteractions.set_population\u001b[0;34m()\u001b[0m\n",
      "\u001b[0;32m/opt/anaconda3/lib/python3.7/site-packages/simfection-0.2.0-py3.7-macosx-10.9-x86_64.egg/network.cpython-37m-darwin.so\u001b[0m in \u001b[0;36mvector.from_py.__pyx_convert_vector_from_py_std_3a__3a_string\u001b[0;34m()\u001b[0m\n",
      "\u001b[0;32m/opt/anaconda3/lib/python3.7/site-packages/simfection-0.2.0-py3.7-macosx-10.9-x86_64.egg/network.cpython-37m-darwin.so\u001b[0m in \u001b[0;36mstring.from_py.__pyx_convert_string_from_py_std__in_string\u001b[0;34m()\u001b[0m\n",
      "\u001b[0;31mTypeError\u001b[0m: expected bytes, list found"
     ]
    }
   ],
   "source": [
    "py_interactions.set_population(\n",
    "    _population.get('agent'),\n",
    "    _population.get('state'),\n",
    "    _population.get('infected_by'),\n",
    "    _population.get('days_infected'),\n",
    "    pop_immunity,\n",
    ")"
   ]
  },
  {
   "cell_type": "markdown",
   "metadata": {},
   "source": [
    "Something weird is happening. It works when I just do `InteractionEngineCpp.interact_all()`, but not when I try to just work with `PyInteractions`. "
   ]
  },
  {
   "cell_type": "code",
   "execution_count": null,
   "metadata": {},
   "outputs": [],
   "source": []
  }
 ],
 "metadata": {
  "kernelspec": {
   "display_name": "Python 3",
   "language": "python",
   "name": "python3"
  },
  "language_info": {
   "codemirror_mode": {
    "name": "ipython",
    "version": 3
   },
   "file_extension": ".py",
   "mimetype": "text/x-python",
   "name": "python",
   "nbconvert_exporter": "python",
   "pygments_lexer": "ipython3",
   "version": "3.7.4"
  },
  "toc": {
   "base_numbering": 1,
   "nav_menu": {},
   "number_sections": true,
   "sideBar": true,
   "skip_h1_title": false,
   "title_cell": "Table of Contents",
   "title_sidebar": "Contents",
   "toc_cell": true,
   "toc_position": {},
   "toc_section_display": true,
   "toc_window_display": true
  }
 },
 "nbformat": 4,
 "nbformat_minor": 4
}
