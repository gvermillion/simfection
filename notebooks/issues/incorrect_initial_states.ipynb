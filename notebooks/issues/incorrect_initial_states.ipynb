{
 "cells": [
  {
   "cell_type": "markdown",
   "metadata": {
    "toc": true
   },
   "source": [
    "<h1>Table of Contents<span class=\"tocSkip\"></span></h1>\n",
    "<div class=\"toc\"><ul class=\"toc-item\"><li><span><a href=\"#Preamble\" data-toc-modified-id=\"Preamble-1\"><span class=\"toc-item-num\">1&nbsp;&nbsp;</span>Preamble</a></span><ul class=\"toc-item\"><li><span><a href=\"#Imports\" data-toc-modified-id=\"Imports-1.1\"><span class=\"toc-item-num\">1.1&nbsp;&nbsp;</span>Imports</a></span></li><li><span><a href=\"#Set-Environment-Parameters\" data-toc-modified-id=\"Set-Environment-Parameters-1.2\"><span class=\"toc-item-num\">1.2&nbsp;&nbsp;</span>Set Environment Parameters</a></span><ul class=\"toc-item\"><li><span><a href=\"#Set-Environment-with-Parameters\" data-toc-modified-id=\"Set-Environment-with-Parameters-1.2.1\"><span class=\"toc-item-num\">1.2.1&nbsp;&nbsp;</span>Set Environment with Parameters</a></span></li></ul></li></ul></li><li><span><a href=\"#Main\" data-toc-modified-id=\"Main-2\"><span class=\"toc-item-num\">2&nbsp;&nbsp;</span>Main</a></span></li></ul></div>"
   ]
  },
  {
   "cell_type": "markdown",
   "metadata": {},
   "source": [
    "# Preamble"
   ]
  },
  {
   "cell_type": "markdown",
   "metadata": {},
   "source": [
    "## Imports"
   ]
  },
  {
   "cell_type": "code",
   "execution_count": null,
   "metadata": {},
   "outputs": [],
   "source": [
    "from simfection.population_engine import PopulationEngine\n",
    "from simfection.settings import SimfectionSettings\n",
    "import pandas as pd\n",
    "import numpy as np\n",
    "import seaborn as sns\n",
    "import logging\n",
    "import matplotlib.pyplot as plt\n",
    "import matplotlib.transforms as transforms"
   ]
  },
  {
   "cell_type": "markdown",
   "metadata": {},
   "source": [
    "## Set Environment Parameters"
   ]
  },
  {
   "cell_type": "code",
   "execution_count": null,
   "metadata": {},
   "outputs": [],
   "source": [
    "number_of_trials = 10**4"
   ]
  },
  {
   "cell_type": "code",
   "execution_count": null,
   "metadata": {},
   "outputs": [],
   "source": [
    "# Window for rolling average in final plot\n",
    "rolling_window = 50"
   ]
  },
  {
   "cell_type": "code",
   "execution_count": null,
   "metadata": {},
   "outputs": [],
   "source": [
    "# For sum(initial_states) < 1, susceptible rate set to 1 - sum(initial_states)\n",
    "initial_states = {\n",
    "        'inf': 0.12,\n",
    "        'dead': 0.03,\n",
    "    }"
   ]
  },
  {
   "cell_type": "markdown",
   "metadata": {},
   "source": [
    "### Set Environment with Parameters"
   ]
  },
  {
   "cell_type": "code",
   "execution_count": null,
   "metadata": {},
   "outputs": [],
   "source": [
    "# Turn off logger\n",
    "logging.disable(logging.CRITICAL)"
   ]
  },
  {
   "cell_type": "code",
   "execution_count": null,
   "metadata": {},
   "outputs": [],
   "source": [
    "settings = SimfectionSettings()"
   ]
  },
  {
   "cell_type": "code",
   "execution_count": null,
   "metadata": {},
   "outputs": [],
   "source": [
    "settings.set_setting(\n",
    "    'initial_states',\n",
    "    initial_states\n",
    ")"
   ]
  },
  {
   "cell_type": "code",
   "execution_count": null,
   "metadata": {},
   "outputs": [],
   "source": [
    "sns.set()"
   ]
  },
  {
   "cell_type": "markdown",
   "metadata": {},
   "source": [
    "# Main"
   ]
  },
  {
   "cell_type": "markdown",
   "metadata": {},
   "source": [
    "To test the efficacy of the `PopulationEngine` with respect to synthesizing the initial states for the population, we perform the initial states synthesis `number_of_trials`  of times."
   ]
  },
  {
   "cell_type": "markdown",
   "metadata": {},
   "source": [
    "Each time, we measure the distribution of states and save to a list."
   ]
  },
  {
   "cell_type": "code",
   "execution_count": null,
   "metadata": {},
   "outputs": [],
   "source": [
    "population = PopulationEngine(settings)"
   ]
  },
  {
   "cell_type": "code",
   "execution_count": null,
   "metadata": {},
   "outputs": [],
   "source": [
    "%%time\n",
    "measurements = []\n",
    "for _ in range(number_of_trials):\n",
    "    population.synthesize_population()\n",
    "    states = population._df.state.value_counts(normalize=True).to_dict()\n",
    "    measurements.append(\n",
    "        {\n",
    "            'dead':states.get('dead',0),\n",
    "            'sus':states.get('sus',0),\n",
    "            'inf':states.get('inf',0)\n",
    "        }\n",
    "    )"
   ]
  },
  {
   "cell_type": "markdown",
   "metadata": {},
   "source": [
    "Here, convert the list of measurements to a `pandas` DataFrame."
   ]
  },
  {
   "cell_type": "code",
   "execution_count": null,
   "metadata": {},
   "outputs": [],
   "source": [
    "measurements = pd.DataFrame(measurements)"
   ]
  },
  {
   "cell_type": "markdown",
   "metadata": {},
   "source": [
    "Plot the rolling average of each initial state with a window size of `rolling_window`. The red lines indicate the average of all trials. The target initial states are given in the title."
   ]
  },
  {
   "cell_type": "code",
   "execution_count": null,
   "metadata": {
    "code_folding": [
     2
    ]
   },
   "outputs": [],
   "source": [
    "fig = plt.figure(figsize=(12,8))\n",
    "ax = plt.gca()\n",
    "for col in measurements.columns:\n",
    "    sns.lineplot(\n",
    "        x='index',\n",
    "        y=col,\n",
    "        label=col,\n",
    "        data=(\n",
    "            measurements\n",
    "            .rolling(\n",
    "                rolling_window\n",
    "            )\n",
    "            .mean()\n",
    "            .reset_index()\n",
    "        ),\n",
    "        ax=ax\n",
    "    )\n",
    "    ax.axhline(\n",
    "        y=measurements[col].mean(),\n",
    "        linestyle='--',\n",
    "        color='red'\n",
    "    )\n",
    "    trans = transforms.blended_transform_factory(\n",
    "        ax.get_yticklabels()[0].get_transform(), ax.transData)\n",
    "    ax.text(0,measurements[col].mean(), \"{:.2f}\".format(measurements[col].mean()), color=\"red\", transform=trans, \n",
    "            ha=\"right\", va=\"center\")\n",
    "_ = ax.set(\n",
    "    ylim=[-0.25,1],\n",
    "    xlabel='Trial',\n",
    "    ylabel='Ratio of State',\n",
    "    title='Synthesize Initial States Test\\nInf: {inf} Dead: {dead}\\nRolling Avg: {window}'.format(\n",
    "        inf=population.initial_states['inf'],\n",
    "        dead=population.initial_states['dead'],\n",
    "        window=rolling_window\n",
    "    )\n",
    ")\n"
   ]
  },
  {
   "cell_type": "code",
   "execution_count": null,
   "metadata": {},
   "outputs": [],
   "source": []
  }
 ],
 "metadata": {
  "kernelspec": {
   "display_name": "Python 3",
   "language": "python",
   "name": "python3"
  },
  "language_info": {
   "codemirror_mode": {
    "name": "ipython",
    "version": 3
   },
   "file_extension": ".py",
   "mimetype": "text/x-python",
   "name": "python",
   "nbconvert_exporter": "python",
   "pygments_lexer": "ipython3",
   "version": "3.7.4"
  },
  "toc": {
   "base_numbering": 1,
   "nav_menu": {},
   "number_sections": true,
   "sideBar": true,
   "skip_h1_title": false,
   "title_cell": "Table of Contents",
   "title_sidebar": "Contents",
   "toc_cell": true,
   "toc_position": {},
   "toc_section_display": true,
   "toc_window_display": true
  }
 },
 "nbformat": 4,
 "nbformat_minor": 4
}
